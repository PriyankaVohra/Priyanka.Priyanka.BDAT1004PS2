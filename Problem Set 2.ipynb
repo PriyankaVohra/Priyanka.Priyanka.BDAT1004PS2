{
 "cells": [
  {
   "cell_type": "markdown",
   "id": "1befc9ce",
   "metadata": {},
   "source": [
    "# Question 1: \n",
    "Consider the following Python module:\n",
    "a = 0\n",
    "def b():\n",
    " global a\n",
    " a = c(a)\n",
    "def c(a):\n",
    " return a + 2\n",
    "After importing the module into the interpreter, you execute:\n",
    ">>> b()\n",
    ">>> b()\n",
    ">>> b()\n",
    ">>> a\n",
    "?\n",
    "What value is displayed when the last expression (a) is evaluated? Explain your \n",
    "answer by indicating what happens in every executed statement"
   ]
  },
  {
   "cell_type": "markdown",
   "id": "5609dac3",
   "metadata": {},
   "source": [
    "# Answer: \n",
    "6\n",
    "\n",
    "Initially a = 0\n",
    "In every executed statement since b is defined as the function of the global variable\n",
    "\n",
    "Function c takes a as a parameter and returns each time with increments 2\n",
    "\n",
    "b() returns 2\n",
    "\n",
    "b() returns 4\n",
    "\n",
    "b() returns 6\n",
    "\n",
    "So that a = 6"
   ]
  },
  {
   "cell_type": "markdown",
   "id": "c3598cc8",
   "metadata": {},
   "source": [
    "# Question 2:\n",
    "\n",
    "Function fileLength(), given to you, takes the name of a file as input and returns \n",
    "the length of the file:\n",
    ">>> fileLength('midterm.py')\n",
    "284\n",
    ">>> fileLength('idterm.py')\n",
    "Traceback (most recent call last):\n",
    "File \"<pyshell#34>\", line 1, in <module>\n",
    " fileLength('idterm.py')\n",
    "File \"/Users/me/midterm.py\", line 3, in fileLength\n",
    " infile = open(filename)\n",
    "FileNotFoundError: [Errno 2] No such file or directory: \n",
    "'idterm.py'\n",
    "As shown above, if the file cannot be found by the interpreter or if it cannot be read \n",
    "as a text file, an exception will be raised. Modify function fileLength() so that a \n",
    "friendly message is printed instead:\n",
    ">>> fileLength('midterm.py')\n",
    "358\n",
    ">>> fileLength('idterm.py')\n",
    "File idterm.py not found."
   ]
  },
  {
   "cell_type": "markdown",
   "id": "18b65352",
   "metadata": {},
   "source": [
    "# Answer:"
   ]
  },
  {
   "cell_type": "code",
   "execution_count": 2,
   "id": "adac9860",
   "metadata": {},
   "outputs": [
    {
     "name": "stdout",
     "output_type": "stream",
     "text": [
      "123\n",
      "goodnewsLength.txt not found.\n"
     ]
    }
   ],
   "source": [
    "def filelength(file):\n",
    "    try:\n",
    "        file=open(file)\n",
    "        contents=file.read()\n",
    "        file.close()\n",
    "        print(len(contents))\n",
    "    except:\n",
    "        FileNotFoundError()\n",
    "        print(f'{file} not found.')\n",
    "\n",
    "filelength('FileLength.txt')\n",
    "filelength('goodnewsLength.txt')"
   ]
  },
  {
   "cell_type": "markdown",
   "id": "338521ab",
   "metadata": {},
   "source": [
    "# Question 3\n",
    "Write a class named Marsupial that can be used as shown below:\n"
   ]
  },
  {
   "cell_type": "code",
   "execution_count": 5,
   "id": "37621ffb",
   "metadata": {},
   "outputs": [
    {
     "data": {
      "text/plain": [
       "['doll', 'firetruck', 'kitten']"
      ]
     },
     "execution_count": 5,
     "metadata": {},
     "output_type": "execute_result"
    }
   ],
   "source": [
    "class Marsupial(): #a class named Marsupial \n",
    "    def __init__(self):\n",
    "        self.contents = [] #creating an ampty list to store contents\n",
    "    \n",
    "    def put_in_pouch(self,thing):\n",
    "        self.contents.append(thing) #appending to contents\n",
    "        \n",
    "    def pouch_contents(self):\n",
    "        return self.contents # this will return the contents of the list \n",
    "        \n",
    "m=Marsupial()\n",
    "m.put_in_pouch('doll')\n",
    "m.put_in_pouch('firetruck')\n",
    "m.put_in_pouch('kitten')\n",
    "m.pouch_contents()"
   ]
  },
  {
   "cell_type": "code",
   "execution_count": 7,
   "id": "b7fc5bbe",
   "metadata": {},
   "outputs": [
    {
     "name": "stdout",
     "output_type": "stream",
     "text": [
      "I am a kangaroo located at coordinates(0,0)\n",
      "I am a kangaroo located at coordinates(3,0)\n"
     ]
    }
   ],
   "source": [
    "class kangaroo(Marsupial):#subclass of Marsupial that inherits all the Marsupial\n",
    "    def __init__(self,x,y): #coordinates x and y of the Kangaroo object,\n",
    "        Marsupial.__init__(self)\n",
    "        self.y=y\n",
    "        self.x=x\n",
    "    def jump(self,dx,dy):\n",
    "        self.x = self.x+dx\n",
    "        self.y = self.y+dy\n",
    "    def __str__(self):\n",
    "        return 'I am a kangaroo located at coordinates({},{})'.format(self.x,self.y)\n",
    "    \n",
    "k=kangaroo(0,0)\n",
    "print(k)\n",
    "k.put_in_pouch('doll')\n",
    "k.put_in_pouch('firetruck')\n",
    "k.put_in_pouch('kitten')\n",
    "k.pouch_contents()\n",
    "k.jump(1,0)\n",
    "k.jump(1,0)\n",
    "k.jump(1,0)\n",
    "print(k)                                                                           "
   ]
  },
  {
   "cell_type": "markdown",
   "id": "85674cad",
   "metadata": {},
   "source": [
    "# Question 4:\n",
    "Write function collatz() that takes a positive integer x as input and prints the \n",
    "Collatz sequence starting at x. A Collatz sequence is obtained by repeatedly applying \n",
    "this rule to the previous number x in the sequence:\n",
    "x = {\n",
    "𝑥/2 𝑖𝑓 𝑥 𝑖𝑠 𝑒𝑣𝑒𝑛\n",
    "3𝑥 + 1 𝑖𝑓 𝑥 𝑖𝑠 𝑜𝑑𝑑\n",
    "Your function should stop when the sequence gets to number 1. Your \n",
    "implementation must be recursive, without any loops"
   ]
  },
  {
   "cell_type": "code",
   "execution_count": 10,
   "id": "e3e43734",
   "metadata": {},
   "outputs": [
    {
     "name": "stdout",
     "output_type": "stream",
     "text": [
      "1\n",
      "10\n",
      "5\n",
      "16\n",
      "8\n",
      "4\n",
      "2\n",
      "1\n"
     ]
    }
   ],
   "source": [
    "def collatz(x):\n",
    "    if x==1:\n",
    "        print(x)\n",
    "        return\n",
    "    elif x%2==0:\n",
    "        print(x)\n",
    "        collatz(x//2)#recursion\n",
    "    else:\n",
    "        print(x)\n",
    "        collatz(3*x+1) #recursion\n",
    "collatz(1)\n",
    "\n",
    "collatz(10)"
   ]
  },
  {
   "cell_type": "markdown",
   "id": "2cab7250",
   "metadata": {},
   "source": [
    "# Question 5:\n",
    "Write a recursive method binary() that takes a non-negative \n",
    "integer n and prints the binary representation of integer n.\n",
    ">>> binary(0)\n",
    "0\n",
    ">>> binary(1)\n",
    "1\n",
    ">>> binary(3)\n",
    "11\n",
    ">>> binary(9)\n",
    "1001"
   ]
  },
  {
   "cell_type": "code",
   "execution_count": 11,
   "id": "f83fa026",
   "metadata": {},
   "outputs": [
    {
     "name": "stdout",
     "output_type": "stream",
     "text": [
      "0\n",
      "1\n",
      "11\n",
      "1001\n"
     ]
    }
   ],
   "source": [
    "def binary(n):\n",
    "    x = str(n % 2)\n",
    "    \n",
    "    if n//2**1 > 0:\n",
    "        x = x+binary(n//2**1) #Returns n with the bits shifted to the right same as n>>1\n",
    "    return x\n",
    "\n",
    "print(binary(0))\n",
    "print(binary(1))\n",
    "print(binary(3))\n",
    "print(binary(9))"
   ]
  },
  {
   "cell_type": "markdown",
   "id": "e8fcc014",
   "metadata": {},
   "source": [
    "# Question 6:\n",
    "Implement a class named HeadingParser that can be used to parse an HTML document, and retrieve and print all the headings in the document. You should implement your class as a subclass of HTMLParser, defined in Standard Library module html.parser. When fed a string containing HTML code, your class should print the headings, one per line and in the order in which they appear in the document. Each heading should be indented as follows: an h1 heading should have indentation 0, and h2 heading should have indentation 1, etc. Test your implementation using w3c.html.\n"
   ]
  },
  {
   "cell_type": "code",
   "execution_count": 6,
   "id": "4df7a24d",
   "metadata": {},
   "outputs": [
    {
     "name": "stdout",
     "output_type": "stream",
     "text": [
      " W3C Mission\n",
      "  Principles\n"
     ]
    }
   ],
   "source": [
    "from html.parser import HTMLParser \n",
    "\n",
    "class HeadingParser(HTMLParser):#We create a subclass of HTMLParser\n",
    "    indent = 0\n",
    "    headerFlag = False\n",
    "    \n",
    "    \n",
    "    def handle_starttag(self, tag, attrs): \n",
    "        \n",
    "            #Each heading should be indented as follows:\n",
    "            #an h1 heading should have ndentation 0, \n",
    "            #and h2 heading should have indentation 1, etc.\n",
    "            #Test your implementation using w3c.html.\n",
    "        if tag == \"h1\":\n",
    "            self.headerFlag = True\n",
    "            self.indent= 0\n",
    "        elif tag == \"h2\":\n",
    "            self.headerFlag = True\n",
    "            self.indent= 1\n",
    "        elif tag == \"h3\":\n",
    "            self.headerFlag = True\n",
    "            self.indent= 2\n",
    "        elif tag == \"h4\":\n",
    "            self.headerFlag = True\n",
    "            self.indent= 3\n",
    "        elif tag == \"h5\":\n",
    "            self.headerFlag = True\n",
    "            self.indent= 4\n",
    "        elif tag == \"h6\":\n",
    "            self.headerFlag = True\n",
    "            self.indent= 5\n",
    "        else:\n",
    "            self.headerFlag = False\n",
    "            self.indent= 0\n",
    "    def handle_data(self, w3c_data):                \n",
    "        if self.headerFlag: \n",
    "            to_indent = \" \"*self.indent\n",
    "            print('{} {}'.format(to_indent,w3c_data))\n",
    "    def handle_endtag(self, tag):\n",
    "        if tag in [\"h1\",\"h2\",\"h3\",\"h4\",\"h5\",\"h6\"]:\n",
    "            self.headerFlag = False\n",
    "\n",
    "infile = open(\"w3c.html\")\n",
    "content = infile.read()\n",
    "infile.close()  \n",
    "hp = HeadingParser()\n",
    "hp.feed(content)"
   ]
  },
  {
   "cell_type": "markdown",
   "id": "119cae1b",
   "metadata": {},
   "source": [
    "# Question 7:\n",
    "Implement recursive function webdir() that takes as input: a URL (as a string) and \n",
    "non-negative integers depth and indent. Your function should visit every web \n",
    "page reachable from the starting URL web page in depth clicks or less, and print \n",
    "each web page's URL. As shown below, indentation, specified by indent, should \n",
    "be used to indicate the depth of a URL."
   ]
  },
  {
   "cell_type": "code",
   "execution_count": 15,
   "id": "55e76862",
   "metadata": {},
   "outputs": [
    {
     "name": "stdout",
     "output_type": "stream",
     "text": [
      " http://reed.cs.depaul.edu/lperkovic/test1.html\n",
      "         http://reed.cs.depaul.edu/lperkovic/test2.html\n",
      "                 http://reed.cs.depaul.edu/lperkovic/test4.html\n",
      "         http://reed.cs.depaul.edu/lperkovic/test3.html\n",
      "                 http://reed.cs.depaul.edu/lperkovic/test4.html\n"
     ]
    }
   ],
   "source": [
    "from html.parser import HTMLParser    \n",
    "from urllib.request import urlopen\n",
    "from urllib.parse import urljoin\n",
    "\n",
    "class Parser(HTMLParser):\n",
    "\n",
    "    def __init__(self, url):\n",
    "        HTMLParser.__init__(self)\n",
    "        self.url = url\n",
    "        self.url_list = []\n",
    "\n",
    "    def append_list(self):\n",
    "        return self.url_list\n",
    "\n",
    "    def handle_starttag(self, tags, attri):\n",
    "        for head in attri:\n",
    "            contents = urljoin(self.url, head[1])\n",
    "            if contents[:4] == 'http': \n",
    "                self.url_list.append(contents)\n",
    "indentation = 0\n",
    "def webdir(url, distance, indentation):\n",
    "   \n",
    "\n",
    "    distance -= 1    \n",
    "    print(indentation*'  ', url)         \n",
    "\n",
    "    object = urlopen(url).read().decode()\n",
    "    column = Parser(url)\n",
    "    column.feed(object)\n",
    "    url_link = column.append_list() \n",
    " \n",
    "    url_list = url_link\n",
    "    indentation += 4\n",
    "\n",
    "    for links in url_list:\n",
    "        if distance < 0 or indentation < 0:\n",
    "            return 1\n",
    "        else:\n",
    "            webdir(links, distance, indentation)\n",
    "            \n",
    "webdir('http://reed.cs.depaul.edu/lperkovic/test1.html', 2, 0) #recursive function"
   ]
  },
  {
   "cell_type": "markdown",
   "id": "5f82ad77",
   "metadata": {},
   "source": [
    "# Question 8:\n",
    "Write SQL queries on the below database table that return: \n",
    "a) All the temperature data.\n",
    "b) All the cities, but without repetition.\n",
    "c) All the records for India.\n",
    "d) All the Fall records.\n",
    "e) The city, country, and season for which the average rainfall is between 200 \n",
    "and 400 millimeters.\n",
    "f) The city and country for which the average Fall temperature is above 20 \n",
    "degrees, in increasing temperature order.\n",
    "g) The total annual rainfall for Cairo.\n",
    "h) The total rainfall for each season."
   ]
  },
  {
   "cell_type": "code",
   "execution_count": 11,
   "id": "288a9a84",
   "metadata": {},
   "outputs": [],
   "source": [
    "import sqlite3\n",
    "con = sqlite3.connect('priyankaa.db')\n",
    "cur = con.cursor()"
   ]
  },
  {
   "cell_type": "code",
   "execution_count": 12,
   "id": "130ab6d8",
   "metadata": {},
   "outputs": [],
   "source": [
    "cur.execute(\"CREATE TABLE CITY_DATA (City text, Country text, Season text, Temperature float, Rainfall float)\")\n",
    "data=[('Mumbai','India','Winter',24.8, 5.9),('Mumbai','India','Spring',28.4,16.2),('Mumbai','India','Summer',27.9,1549.4),\n",
    "     ('Mumbai','India','Fall',27.6,346.0),('London','United Kingdom','Winter',4.2,207.7),\n",
    "     ('London','United Kingdom','Spring',8.3,169.6),('London','United Kingdom','Summer',15.7,157.0),\n",
    "     ('London','United Kingdom','Fall',10.4,218.5),('Cairo','Egypt','Winter',13.6,16.5),('Cairo','Egypt','Spring',20.7,6.5),\n",
    "     ('Cairo','Egypt','Summer',27.7,0.1),('Cairo','Egypt','Fall',22.2,4.5)]\n",
    "for cities in data:\n",
    "    cur.execute(\"INSERT INTO CITY_DATA VALUES (?,?,?,?,?)\",cities)\n",
    "    con.commit()"
   ]
  },
  {
   "cell_type": "code",
   "execution_count": 13,
   "id": "f3d3762b",
   "metadata": {},
   "outputs": [
    {
     "data": {
      "text/plain": [
       "[(24.8,),\n",
       " (28.4,),\n",
       " (27.9,),\n",
       " (27.6,),\n",
       " (4.2,),\n",
       " (8.3,),\n",
       " (15.7,),\n",
       " (10.4,),\n",
       " (13.6,),\n",
       " (20.7,),\n",
       " (27.7,),\n",
       " (22.2,)]"
      ]
     },
     "execution_count": 13,
     "metadata": {},
     "output_type": "execute_result"
    }
   ],
   "source": [
    "#a) All the temperature data.\n",
    "cur.execute('SELECT Temperature FROM CITY_DATA')\n",
    "cur.fetchall()\n"
   ]
  },
  {
   "cell_type": "code",
   "execution_count": 14,
   "id": "47486ec7",
   "metadata": {},
   "outputs": [
    {
     "data": {
      "text/plain": [
       "[('Mumbai',), ('London',), ('Cairo',)]"
      ]
     },
     "execution_count": 14,
     "metadata": {},
     "output_type": "execute_result"
    }
   ],
   "source": [
    "#b) All the cities, but without repetition.\n",
    "cur.execute('SELECT DISTINCT City FROM CITY_DATA')\n",
    "cur.fetchall()\n"
   ]
  },
  {
   "cell_type": "code",
   "execution_count": 15,
   "id": "8dbf2181",
   "metadata": {},
   "outputs": [
    {
     "data": {
      "text/plain": [
       "[('Mumbai', 'India', 'Winter', 24.8, 5.9),\n",
       " ('Mumbai', 'India', 'Spring', 28.4, 16.2),\n",
       " ('Mumbai', 'India', 'Summer', 27.9, 1549.4),\n",
       " ('Mumbai', 'India', 'Fall', 27.6, 346.0)]"
      ]
     },
     "execution_count": 15,
     "metadata": {},
     "output_type": "execute_result"
    }
   ],
   "source": [
    "#c) All the records for India.\n",
    "cur.execute('SELECT * FROM CITY_DATA WHERE Country LIKE \"India%\"')\n",
    "cur.fetchall()"
   ]
  },
  {
   "cell_type": "code",
   "execution_count": 16,
   "id": "9bbbc68c",
   "metadata": {},
   "outputs": [
    {
     "data": {
      "text/plain": [
       "[('Mumbai', 'India', 'Fall', 27.6, 346.0),\n",
       " ('London', 'United Kingdom', 'Fall', 10.4, 218.5),\n",
       " ('Cairo', 'Egypt', 'Fall', 22.2, 4.5)]"
      ]
     },
     "execution_count": 16,
     "metadata": {},
     "output_type": "execute_result"
    }
   ],
   "source": [
    "#d) All the Fall records.\n",
    "cur.execute('SELECT * FROM CITY_DATA WHERE Season LIKE \"Fall%\"')\n",
    "cur.fetchall()"
   ]
  },
  {
   "cell_type": "code",
   "execution_count": 17,
   "id": "619fc645",
   "metadata": {},
   "outputs": [
    {
     "data": {
      "text/plain": [
       "[('Mumbai', 'India', 'Fall'),\n",
       " ('London', 'United Kingdom', 'Winter'),\n",
       " ('London', 'United Kingdom', 'Fall')]"
      ]
     },
     "execution_count": 17,
     "metadata": {},
     "output_type": "execute_result"
    }
   ],
   "source": [
    "#e) The city, country, and season for which the average rainfall \n",
    "#is between 200 and 400 millimeters.\n",
    "\n",
    "cur.execute('SELECT City, Country, Season FROM CITY_DATA WHERE Rainfall BETWEEN 200 AND 400')\n",
    "cur.fetchall()"
   ]
  },
  {
   "cell_type": "code",
   "execution_count": 18,
   "id": "2eba31bc",
   "metadata": {},
   "outputs": [
    {
     "data": {
      "text/plain": [
       "[('Mumbai', 'India', 28.4),\n",
       " ('Mumbai', 'India', 27.9),\n",
       " ('Cairo', 'Egypt', 27.7),\n",
       " ('Mumbai', 'India', 27.6),\n",
       " ('Mumbai', 'India', 24.8),\n",
       " ('Cairo', 'Egypt', 22.2),\n",
       " ('Cairo', 'Egypt', 20.7)]"
      ]
     },
     "execution_count": 18,
     "metadata": {},
     "output_type": "execute_result"
    }
   ],
   "source": [
    "#f) The city and country for which the average Fall temperature is above 20 degrees, \n",
    "#in increasing temperature order.\n",
    "\n",
    "cur.execute('SELECT City, Country,Temperature FROM CITY_DATA WHERE Temperature > 20 ORDER BY Temperature DESC')\n",
    "cur.fetchall()   "
   ]
  },
  {
   "cell_type": "code",
   "execution_count": 19,
   "id": "13707c92",
   "metadata": {},
   "outputs": [
    {
     "data": {
      "text/plain": [
       "[(27.6, 'Cairo')]"
      ]
     },
     "execution_count": 19,
     "metadata": {},
     "output_type": "execute_result"
    }
   ],
   "source": [
    "#g) The total annual rainfall for Cairo.\n",
    "cur.execute('SELECT SUM(Rainfall) AS RF, City FROM CITY_DATA WHERE City LIKE \"Cairo\" GROUP BY City')\n",
    "cur.fetchall()"
   ]
  },
  {
   "cell_type": "code",
   "execution_count": 20,
   "id": "23989fc4",
   "metadata": {},
   "outputs": [
    {
     "data": {
      "text/plain": [
       "[(569.0, 'Fall'),\n",
       " (192.29999999999998, 'Spring'),\n",
       " (1706.5, 'Summer'),\n",
       " (230.1, 'Winter')]"
      ]
     },
     "execution_count": 20,
     "metadata": {},
     "output_type": "execute_result"
    }
   ],
   "source": [
    "#h) The total rainfall for each season.\n",
    "\n",
    "cur.execute('SELECT SUM(Rainfall),Season FROM CITY_DATA GROUP BY Season')\n",
    "cur.fetchall()"
   ]
  },
  {
   "cell_type": "markdown",
   "id": "99b6eab6",
   "metadata": {},
   "source": [
    "# Question 9: \n",
    "Suppose list words is defined as follows:\n",
    ">>> words = ['The', 'quick', 'brown', 'fox', 'jumps', 'over', \n",
    "'the', 'lazy', 'dog']\n",
    "Write list comprehension expressions that use list words and generate the following \n",
    "lists:\n",
    "a) ['THE', 'QUICK', 'BROWN', 'FOX', 'JUMPS', 'OVER', 'THE', \n",
    "'LAZY', 'DOG']\n",
    "b) ['the', 'quick', 'brown', 'fox', 'jumps', 'over', 'the', \n",
    "'lazy', 'dog']\n",
    "c) [3, 5, 5, 3, 5, 4, 3, 4, 3] (the list of lengths of words in list \n",
    "words).\n",
    "d) [['THE', 'the', 3], ['QUICK', 'quick', 5], ['BROWN', \n",
    "'brown', 5], ['FOX', 'fox', 3], ['JUMPS', 'jumps', 5], \n",
    "['OVER', 'over', 4], ['THE', 'the', 3], ['LAZY', 'lazy', \n",
    "4], ['DOG', 'dog', 3]] (the list containing a list for every word of list \n",
    "words, where each list contains the word in uppercase and lowercase and the \n",
    "length of the word.)\n",
    "e) ['The', 'quick', 'brown', 'fox', 'jumps', 'over', 'the', \n",
    "'lazy', 'dog'] (the list of words in list words containing 4 or more \n",
    "characters."
   ]
  },
  {
   "cell_type": "code",
   "execution_count": 21,
   "id": "e5ad579b",
   "metadata": {},
   "outputs": [],
   "source": [
    "words = ['The', 'quick', 'brown', 'fox', 'jumps', 'over', 'the', 'lazy', 'dog']"
   ]
  },
  {
   "cell_type": "code",
   "execution_count": 27,
   "id": "5b3c942d",
   "metadata": {},
   "outputs": [
    {
     "data": {
      "text/plain": [
       "['THE', 'QUICK', 'BROWN', 'FOX', 'JUMPS', 'OVER', 'THE', 'LAZY', 'DOG']"
      ]
     },
     "execution_count": 27,
     "metadata": {},
     "output_type": "execute_result"
    }
   ],
   "source": [
    "lista = [word.upper() for word in words]\n",
    "lista"
   ]
  },
  {
   "cell_type": "code",
   "execution_count": 28,
   "id": "3fdb1c70",
   "metadata": {},
   "outputs": [
    {
     "data": {
      "text/plain": [
       "['the', 'quick', 'brown', 'fox', 'jumps', 'over', 'the', 'lazy', 'dog']"
      ]
     },
     "execution_count": 28,
     "metadata": {},
     "output_type": "execute_result"
    }
   ],
   "source": [
    "listb = [word.lower() for word in words]\n",
    "listb"
   ]
  },
  {
   "cell_type": "code",
   "execution_count": 29,
   "id": "16c4c6a2",
   "metadata": {},
   "outputs": [
    {
     "data": {
      "text/plain": [
       "[3, 5, 5, 3, 5, 4, 3, 4, 3]"
      ]
     },
     "execution_count": 29,
     "metadata": {},
     "output_type": "execute_result"
    }
   ],
   "source": [
    "listc = [len(word) for word in words] #the list of lengths of words in list words).\n",
    "listc"
   ]
  },
  {
   "cell_type": "code",
   "execution_count": 30,
   "id": "5c39985e",
   "metadata": {},
   "outputs": [
    {
     "data": {
      "text/plain": [
       "[('THE', 'the', 3),\n",
       " ('QUICK', 'quick', 5),\n",
       " ('BROWN', 'brown', 5),\n",
       " ('FOX', 'fox', 3),\n",
       " ('JUMPS', 'jumps', 5),\n",
       " ('OVER', 'over', 4),\n",
       " ('THE', 'the', 3),\n",
       " ('LAZY', 'lazy', 4),\n",
       " ('DOG', 'dog', 3)]"
      ]
     },
     "execution_count": 30,
     "metadata": {},
     "output_type": "execute_result"
    }
   ],
   "source": [
    "listd = [(word.upper(),word.lower(),len(word)) for word in words]\n",
    "listd"
   ]
  },
  {
   "cell_type": "code",
   "execution_count": 32,
   "id": "94d2326c",
   "metadata": {},
   "outputs": [
    {
     "data": {
      "text/plain": [
       "['quick', 'brown', 'jumps', 'over', 'lazy']"
      ]
     },
     "execution_count": 32,
     "metadata": {},
     "output_type": "execute_result"
    }
   ],
   "source": [
    "liste = [word for word in words if len(word)>=4]\n",
    "liste"
   ]
  }
 ],
 "metadata": {
  "kernelspec": {
   "display_name": "Python 3 (ipykernel)",
   "language": "python",
   "name": "python3"
  },
  "language_info": {
   "codemirror_mode": {
    "name": "ipython",
    "version": 3
   },
   "file_extension": ".py",
   "mimetype": "text/x-python",
   "name": "python",
   "nbconvert_exporter": "python",
   "pygments_lexer": "ipython3",
   "version": "3.10.9"
  }
 },
 "nbformat": 4,
 "nbformat_minor": 5
}
